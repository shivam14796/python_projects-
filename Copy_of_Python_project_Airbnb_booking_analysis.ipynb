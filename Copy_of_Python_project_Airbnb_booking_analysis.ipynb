{
  "nbformat": 4,
  "nbformat_minor": 0,
  "metadata": {
    "colab": {
      "private_outputs": true,
      "provenance": [],
      "collapsed_sections": [
        "gIfDvo9L0UH2"
      ]
    },
    "kernelspec": {
      "name": "python3",
      "display_name": "Python 3"
    },
    "language_info": {
      "name": "python"
    }
  },
  "cells": [
    {
      "cell_type": "markdown",
      "source": [
        "#PROJECT NAME-AIRBNB BOOKING ANALYSIS"
      ],
      "metadata": {
        "id": "3b559TLNZ900"
      }
    },
    {
      "cell_type": "markdown",
      "source": [
        "####PROJECT TYPE : EDA(EXPLOLATRY DATA analysis)"
      ],
      "metadata": {
        "id": "l7DR3vFwZ_-D"
      }
    },
    {
      "cell_type": "markdown",
      "source": [
        "####Submitted By - Shivam Tiwari"
      ],
      "metadata": {
        "id": "dyZ75oFMZ70w"
      }
    },
    {
      "cell_type": "markdown",
      "source": [
        "![download.jpeg](data:image/jpeg;base64,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)"
      ],
      "metadata": {
        "id": "JowK741pg8mo"
      }
    },
    {
      "cell_type": "markdown",
      "source": [
        "# **Project Summary -**"
      ],
      "metadata": {
        "id": "FJNUwmbgGyua"
      }
    },
    {
      "cell_type": "markdown",
      "source": [
        "Objectives and Scope of the Project\n",
        "\n",
        "The objective of this project is to analyze the Airbnb dataset to uncover key insights that can inform business decisions. Specifically, the project aims to:\n",
        "\n",
        "Understand the distribution and preference of different room types. Analyze the popularity of various neighborhoods. Investigate pricing trends and availability. Evaluate the performance of listings based on reviews. The scope of the project includes data cleaning, exploratory data analysis (EDA), in-depth analysis, and deriving actionable recommendations.\n",
        "\n"
      ],
      "metadata": {
        "id": "F6v_1wHtG2nS"
      }
    },
    {
      "cell_type": "markdown",
      "source": [
        "# **GitHub Link - https://github.com/shivam14796**"
      ],
      "metadata": {
        "id": "w6K7xa23Elo4"
      }
    },
    {
      "cell_type": "markdown",
      "source": [
        "# **Problem Statement**\n"
      ],
      "metadata": {
        "id": "yQaldy8SH6Dl"
      }
    },
    {
      "cell_type": "code",
      "source": [
        "# importing the necessary library\n",
        "import numpy as np\n",
        "import pandas as pd\n",
        "import matplotlib.pyplot as plt\n",
        "import seaborn as sns"
      ],
      "metadata": {
        "id": "XADwo-IfiEiz"
      },
      "execution_count": null,
      "outputs": []
    },
    {
      "cell_type": "code",
      "source": [
        "from google.colab import drive\n",
        "drive.mount('/content/drive')"
      ],
      "metadata": {
        "id": "WqHBUwk4iQJN"
      },
      "execution_count": null,
      "outputs": []
    },
    {
      "cell_type": "code",
      "source": [
        "data=pd.read_csv('/content/drive/MyDrive/data_science/Airbnb_NYC_2019.csv')"
      ],
      "metadata": {
        "id": "UyehYvC1iHRw"
      },
      "execution_count": null,
      "outputs": []
    },
    {
      "cell_type": "code",
      "source": [
        "data"
      ],
      "metadata": {
        "id": "nUgH2engjAUm"
      },
      "execution_count": null,
      "outputs": []
    },
    {
      "cell_type": "markdown",
      "source": [
        "#Basic inspection of data"
      ],
      "metadata": {
        "id": "l_EieIzHjiuB"
      }
    },
    {
      "cell_type": "code",
      "source": [
        "# Reading first five rows by head method\n",
        "data.head()"
      ],
      "metadata": {
        "id": "lPLnvT_kjnEY"
      },
      "execution_count": null,
      "outputs": []
    },
    {
      "cell_type": "code",
      "source": [
        "# reading the last five row using the tail method\n",
        "data.tail()"
      ],
      "metadata": {
        "id": "e9hRXRi6meOf"
      },
      "execution_count": null,
      "outputs": []
    },
    {
      "cell_type": "code",
      "source": [
        "# CHECKING THE NUMBERS OF ROWS AND COLUMNS IN DATASET\n",
        "rows=data.shape[0]\n",
        "columns=data.shape[1]\n",
        "print(f'There are {rows} rows and {columns} columns in the dataset')"
      ],
      "metadata": {
        "id": "Gw3r9uAIp0OB"
      },
      "execution_count": null,
      "outputs": []
    },
    {
      "cell_type": "code",
      "source": [
        "# lets have a view of columns we have lets list it and understand the columns we have got for analysis\n",
        "data.columns"
      ],
      "metadata": {
        "id": "pa96RFWfqsud"
      },
      "execution_count": null,
      "outputs": []
    },
    {
      "cell_type": "markdown",
      "source": [
        "#Dataset information"
      ],
      "metadata": {
        "id": "YZxtmQphruAD"
      }
    },
    {
      "cell_type": "code",
      "source": [
        "# lets check the info of our dataset\n",
        "# it simply provide information about how many columns corresponding rows values are present with counting non null value\n",
        "# together with this it also provides the columns data type of which is stored\n",
        "data.info()"
      ],
      "metadata": {
        "id": "sHfjAglAq93A"
      },
      "execution_count": null,
      "outputs": []
    },
    {
      "cell_type": "markdown",
      "source": [
        "#Finding and handling duplicated value"
      ],
      "metadata": {
        "id": "unVvlYMIrzCM"
      }
    },
    {
      "cell_type": "code",
      "source": [
        "# lets check the info of our dataset\n",
        "# it simply provide information about how many columns corresponding rows values are present with counting non null value\n",
        "# together with this it also provides the columns data type of which is stored\n",
        "data.duplicated().sum()"
      ],
      "metadata": {
        "id": "ZxEp0jVwrX2-"
      },
      "execution_count": null,
      "outputs": []
    },
    {
      "cell_type": "markdown",
      "source": [
        "***Hence, we can draw a conclusion that there is no duplicated value in our dataset as we have already check it from duplicated function so no need to drop duplicated row .***"
      ],
      "metadata": {
        "id": "WrLbPKXGsKRk"
      }
    },
    {
      "cell_type": "markdown",
      "source": [
        "*****Data cleaning*****"
      ],
      "metadata": {
        "id": "jyGEhpcUsfxB"
      }
    },
    {
      "cell_type": "markdown",
      "source": [
        "#lets check missing value or null value and  if there is lets handle it"
      ],
      "metadata": {
        "id": "6zmpPzvqsfXg"
      }
    },
    {
      "cell_type": "code",
      "source": [
        "## checking missing or nan value\n",
        "data.isnull().sum()"
      ],
      "metadata": {
        "id": "wk-9a2fpoLcV"
      },
      "execution_count": null,
      "outputs": []
    },
    {
      "cell_type": "markdown",
      "source": [
        "****There are total of 4 columns as we can see above named['name ','host_name','last_review','reviews_per_month']in which null value is presented out of this columns ['last_review','reviews_per_month']have 10052 null value and columns ['name ','host_name'] have 16 and 21 null value.****"
      ],
      "metadata": {
        "id": "pZerV0x5tpe-"
      }
    },
    {
      "cell_type": "code",
      "source": [
        "## Fill missing values in 'name' and 'host_name' with 'Unknown'\n",
        "data['name'].fillna('Unknown',inplace=True)\n",
        "data['host_name'].fillna('unknown',inplace=True)\n"
      ],
      "metadata": {
        "id": "tJQmg1ZUtxMs"
      },
      "execution_count": null,
      "outputs": []
    },
    {
      "cell_type": "code",
      "source": [
        "# Fill missing values in 'last_review' with 'No Review'\n",
        "data['last_review'].fillna('no_review',inplace=True)\n"
      ],
      "metadata": {
        "id": "PKe10UU8ufpq"
      },
      "execution_count": null,
      "outputs": []
    },
    {
      "cell_type": "code",
      "source": [
        "# Fill missing values in 'reviews_per_month' with 0\n",
        "data['reviews_per_month'].fillna(0,inplace=True)"
      ],
      "metadata": {
        "id": "rgnUzSIJu0fb"
      },
      "execution_count": null,
      "outputs": []
    },
    {
      "cell_type": "markdown",
      "source": [
        "***we have filled all the missing value now lets check our data still null value exist or not once***"
      ],
      "metadata": {
        "id": "gdR_PI9DvWhc"
      }
    },
    {
      "cell_type": "code",
      "source": [
        "data.isnull().sum()"
      ],
      "metadata": {
        "id": "CwlgfuT5vbt9"
      },
      "execution_count": null,
      "outputs": []
    },
    {
      "cell_type": "markdown",
      "source": [
        "***we can see now our data doesnot have even a single null value***"
      ],
      "metadata": {
        "id": "4ulu0Wb5vnTG"
      }
    },
    {
      "cell_type": "markdown",
      "source": [
        "#Exploratory Data Analysis (EDA)"
      ],
      "metadata": {
        "id": "iBqKoOuKvv2t"
      }
    },
    {
      "cell_type": "code",
      "source": [
        "# Descriptive statistics\n",
        "data.describe()"
      ],
      "metadata": {
        "id": "v7rqvT5qvjTW"
      },
      "execution_count": null,
      "outputs": []
    },
    {
      "cell_type": "markdown",
      "source": [
        "**Key Visualizations and Initial Findings**\n"
      ],
      "metadata": {
        "id": "1ArgYNGov-kD"
      }
    },
    {
      "cell_type": "markdown",
      "source": [
        "***1.Distribution of the room type :***\n",
        "\n",
        "\n",
        "Visualized the count of different room types. Private rooms are the most common type of listing, followed by entire homes/apartments."
      ],
      "metadata": {
        "id": "BCbapi4WwPLg"
      }
    },
    {
      "cell_type": "code",
      "source": [
        "# Distribution of room types:\n",
        "room_type_counts= data['room_type'].value_counts()\n",
        "plt.figure(figsize=(8,6))\n",
        "sns.barplot(x=room_type_counts.index,y=room_type_counts.values,palette='viridis')\n",
        "plt.title('Distribution of room type')\n",
        "plt.xlabel('Room Type')\n",
        "plt.ylabel(\"Count\")\n",
        "plt.show()"
      ],
      "metadata": {
        "id": "XOfrMSauxDIT"
      },
      "execution_count": null,
      "outputs": []
    },
    {
      "cell_type": "markdown",
      "source": [
        "**2.Distribution of Prices:**"
      ],
      "metadata": {
        "id": "USnRsUk10YcW"
      }
    },
    {
      "cell_type": "markdown",
      "source": [
        "***Visualized the price distribution of listings. Prices vary widely, with a concentration of listings in the lower price range.***"
      ],
      "metadata": {
        "id": "FoNzZOjl0uIl"
      }
    },
    {
      "cell_type": "code",
      "source": [
        "## Distribution of prices\n",
        "plt.figure(figsize=(8,6))\n",
        "sns.histplot(data['price'],bins=20,kde=True,color='darkblue')\n",
        "plt.title('Distribution of prices')\n",
        "plt.xlabel('Price')\n",
        "plt.ylabel('Frequency')\n",
        "plt.show()"
      ],
      "metadata": {
        "id": "418Brrtl1OiX"
      },
      "execution_count": null,
      "outputs": []
    },
    {
      "cell_type": "markdown",
      "source": [
        "***3.Neighborhood Popularity:***"
      ],
      "metadata": {
        "id": "Vkqy4x3i2qRa"
      }
    },
    {
      "cell_type": "markdown",
      "source": [
        "*Visualized the number of listings in each neighborhood group.\n",
        "Manhattan and Brooklyn have the highest number of listings.*"
      ],
      "metadata": {
        "id": "z_HsFNZg24kM"
      }
    },
    {
      "cell_type": "code",
      "source": [
        "# Neighborhood popularity\n",
        "Neighborhood_counts=data['neighbourhood_group'].value_counts()\n",
        "plt.figure(figsize=(8,6))\n",
        "sns.barplot(x=Neighborhood_counts.index,y=Neighborhood_counts.values,palette='coolwarm')\n",
        "plt.title(\"Neighborhood Popularity\")\n",
        "plt.xlabel('neighbourhood_group')\n",
        "plt.ylabel('count')\n",
        "plt.show()\n"
      ],
      "metadata": {
        "id": "MhFR5HLw3O4_"
      },
      "execution_count": null,
      "outputs": []
    },
    {
      "cell_type": "markdown",
      "source": [
        "**4 Availability Analysis:**\n",
        "\n",
        "Visualized the availability of listings throughout the year.\n",
        "\n",
        "There is a wide range of availability, indicating potential seasonal trends."
      ],
      "metadata": {
        "id": "R5y2HheQ6JEb"
      }
    },
    {
      "cell_type": "code",
      "source": [
        "# Availability analysis\n",
        "plt.figure(figsize=(8,6))\n",
        "sns.histplot(data[\"availability_365\"],bins=20,kde=True,color='green')\n",
        "plt.title('availability distribution over 365 days ')\n",
        "plt.xlabel('days')\n",
        "plt.ylabel('frequency')\n",
        "plt.show()"
      ],
      "metadata": {
        "id": "7BqYdJhg6Qud"
      },
      "execution_count": null,
      "outputs": []
    },
    {
      "cell_type": "markdown",
      "source": [
        "**5 Reviews per Month:**\n",
        "\n",
        "Visualized the distribution of reviews per month.\n",
        "\n",
        "Most listings have few reviews per month, with a long tail of listings with higher review counts."
      ],
      "metadata": {
        "id": "K9g0ZmQN8odV"
      }
    },
    {
      "cell_type": "code",
      "source": [
        "# Reviews per month\n",
        "plt.figure(figsize=(8,6))\n",
        "sns.histplot(data['reviews_per_month'], bins=30,kde=True,color='red')\n",
        "plt.title('distribution of the reviews per month ')\n",
        "plt.xlabel('reviews per month')\n",
        "plt.ylabel('frequency')\n",
        "plt.show()"
      ],
      "metadata": {
        "id": "G3KrzgOk8xVz"
      },
      "execution_count": null,
      "outputs": []
    },
    {
      "cell_type": "markdown",
      "source": [
        "#In-Depth Analysis"
      ],
      "metadata": {
        "id": "EZO3gm-8_Nxb"
      }
    },
    {
      "cell_type": "markdown",
      "source": [
        "**Hypothesis Testing, Correlation Analysis, and Other Advanced Analysis**"
      ],
      "metadata": {
        "id": "or-7uakf_ZP_"
      }
    },
    {
      "cell_type": "markdown",
      "source": [
        "1.Hypothesis Testing: Are Private Rooms Cheaper than Entire Homes/Apartments?: Conducted a t-test to compare the prices of private rooms and entire homes/apartments.\n",
        "\n",
        "Private rooms are generally cheaper than entire homes/apartments."
      ],
      "metadata": {
        "id": "vNw6x93k_gwc"
      }
    },
    {
      "cell_type": "code",
      "source": [
        "from scipy.stats import ttest_ind\n",
        "# Extract prices for private rooms and entire homes/apartments\n",
        "private_room_prices = data[data['room_type'] == 'Private room']['price']\n",
        "entire_home_prices = data[data['room_type'] == 'Entire home/apt']['price']\n",
        "# Perform t-test to compare means\n",
        "t_stat, p_value = ttest_ind(private_room_prices, entire_home_prices)\n",
        "print(f'T-statistic: {t_stat}, P-value: {p_value}')"
      ],
      "metadata": {
        "id": "hUub4zmG_t5C"
      },
      "execution_count": null,
      "outputs": []
    },
    {
      "cell_type": "markdown",
      "source": [
        "**2 Correlation Analysis:**\n",
        "\n",
        "Generated a correlation matrix to see how different numeric variables relate to each other.\n",
        "\n",
        "Identified relationships between variables such as price, number of reviews, and availability."
      ],
      "metadata": {
        "id": "5iLGqziBAPOv"
      }
    },
    {
      "cell_type": "code",
      "source": [
        "# Correlation analysis\n",
        "# Filter out non-numeric columns\n",
        "numeric_df = data.select_dtypes(include=[np.number])\n",
        "\n",
        "# Generate the correlation matrix\n",
        "corr_matrix = numeric_df.corr()\n",
        "\n",
        "# Plot the correlation matrix\n",
        "plt.figure(figsize=(12, 8))\n",
        "sns.heatmap(corr_matrix, annot=True, cmap='coolwarm', linewidths=0.5)\n",
        "plt.title('Correlation Matrix')\n",
        "plt.show()\n"
      ],
      "metadata": {
        "id": "j2abApByATET"
      },
      "execution_count": null,
      "outputs": []
    },
    {
      "cell_type": "markdown",
      "source": [
        "**Insights and Recommendations**\n",
        "*Summary of Findings and Actionable Recommendations*\n",
        "\n",
        "**1Room Type Preference:**\n",
        "\n",
        "Private rooms are the most popular type of listing on Airbnb.\n",
        "\n",
        "Recommendation: Promote private room listings to attract budget-conscious travelers.\n",
        "\n",
        "**2.Neighborhood Popularity:**\n",
        "\n",
        "Manhattan and Brooklyn are the most popular neighborhoods for listings.\n",
        "\n",
        "Recommendation: Focus marketing efforts on popular neighborhoods like Manhattan and Brooklyn.\n",
        "\n",
        "**3.Price Insights:**\n",
        "\n",
        "Private rooms tend to be cheaper than entire homes/apartments.\n",
        "\n",
        "Recommendation: Encourage hosts of private rooms to maintain competitive pricing to attract more guests.\n",
        "\n",
        "**4 Seasonal Availability:**\n",
        "\n",
        "Listings have varied availability throughout the year, indicating potential seasonal trends.\n",
        "\n",
        "Recommendation: Advise hosts to optimize availability during peak seasons to maximize occupancy rates.\n",
        "\n",
        "**5.Reviews and Performance:**\n",
        "\n",
        "Listings with higher reviews per month indicate higher guest satisfaction.\n",
        "\n",
        "Recommendation: Encourage hosts to improve guest experience to garner more positive reviews."
      ],
      "metadata": {
        "id": "8ufbHVQ2BB_w"
      }
    },
    {
      "cell_type": "markdown",
      "source": [
        "# **Conclusion**"
      ],
      "metadata": {
        "id": "gCX9965dhzqZ"
      }
    },
    {
      "cell_type": "markdown",
      "source": [
        "\n",
        "Recap of the Project and Its Implications for Stakeholders This project provided a comprehensive analysis of the Airbnb dataset, highlighting key insights into room type preferences, neighborhood popularity, pricing trends, and listing performance. By understanding these patterns, Airbnb and its hosts can make informed decisions to enhance guest experiences, optimize pricing strategies, and focus marketing efforts effectively. The insights and recommendations derived from this analysis can help Airbnb improve its platform and ensure higher satisfaction for both guests and hosts.\n",
        "\n"
      ],
      "metadata": {
        "id": "Fjb1IsQkh3yE"
      }
    },
    {
      "cell_type": "markdown",
      "source": [
        "### ***Hurrah! You have successfully completed your EDA Capstone Project !!!***"
      ],
      "metadata": {
        "id": "gIfDvo9L0UH2"
      }
    },
    {
      "cell_type": "code",
      "source": [],
      "metadata": {
        "id": "kD1m4fX-8ol8"
      },
      "execution_count": null,
      "outputs": []
    }
  ]
}